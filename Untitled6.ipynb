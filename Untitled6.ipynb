{
 "cells": [
  {
   "cell_type": "code",
   "execution_count": 43,
   "id": "d5c1c807-6f86-4750-8664-ee138874e5d9",
   "metadata": {},
   "outputs": [
    {
     "name": "stdout",
     "output_type": "stream",
     "text": [
      "System Information:\n",
      "System: Linux\n",
      "Node Name: idc-training-gpu-compute-04\n",
      "Release: 5.15.0-128-generic\n",
      "Version: #138-Ubuntu SMP Sat Nov 30 22:28:23 UTC 2024\n",
      "Machine: x86_64\n",
      "Processor: x86_64\n"
     ]
    }
   ],
   "source": [
    "import platform\n",
    "import psutil\n",
    "system_info = platform.uname()\n",
    "\n",
    "print(\"System Information:\")\n",
    "print(f\"System: {system_info.system}\")\n",
    "print(f\"Node Name: {system_info.node}\")\n",
    "print(f\"Release: {system_info.release}\")\n",
    "print(f\"Version: {system_info.version}\")\n",
    "print(f\"Machine: {system_info.machine}\")\n",
    "print(f\"Processor: {system_info.processor}\")"
   ]
  },
  {
   "cell_type": "code",
   "execution_count": 44,
   "id": "5aed4091-a143-4f17-968a-a95539aa6cab",
   "metadata": {},
   "outputs": [
    {
     "name": "stdout",
     "output_type": "stream",
     "text": [
      "\n",
      "CPU Information:\n",
      "Processor: x86_64\n",
      "Physical Cores: 96\n",
      "Logical Cores: 192\n"
     ]
    }
   ],
   "source": [
    "cpu_info = platform.processor()\n",
    "cpu_count = psutil.cpu_count(logical=False)\n",
    "logical_cpu_count = psutil.cpu_count(logical=True)\n",
    "\n",
    "print(\"\\nCPU Information:\")\n",
    "print(f\"Processor: {cpu_info}\")\n",
    "print(f\"Physical Cores: {cpu_count}\")\n",
    "print(f\"Logical Cores: {logical_cpu_count}\")"
   ]
  },
  {
   "cell_type": "code",
   "execution_count": 45,
   "id": "f0108ea5-06e3-4e7d-9c34-b5513be12943",
   "metadata": {},
   "outputs": [
    {
     "name": "stdout",
     "output_type": "stream",
     "text": [
      "\n",
      "Memory Information:\n",
      "Total Memory: 1081842696192 bytes\n",
      "Available Memory: 1054577766400 bytes\n",
      "Used Memory: 32446877696 bytes\n",
      "Memory Utilization: 2.5%\n"
     ]
    }
   ],
   "source": [
    "memory_info = psutil.virtual_memory()\n",
    "\n",
    "print(\"\\nMemory Information:\")\n",
    "print(f\"Total Memory: {memory_info.total} bytes\")\n",
    "print(f\"Available Memory: {memory_info.available} bytes\")\n",
    "print(f\"Used Memory: {memory_info.used} bytes\")\n",
    "print(f\"Memory Utilization: {memory_info.percent}%\")"
   ]
  },
  {
   "cell_type": "code",
   "execution_count": 46,
   "id": "3ca3a3ab-f244-4801-ae2a-018af71d62c0",
   "metadata": {},
   "outputs": [
    {
     "name": "stdout",
     "output_type": "stream",
     "text": [
      "\n",
      "Disk Information:\n",
      "Total Disk Space: 930334486528 bytes\n",
      "Used Disk Space: 26568474624 bytes\n",
      "Free Disk Space: 903749234688 bytes\n",
      "Disk Space Utilization: 2.9%\n"
     ]
    }
   ],
   "source": [
    "disk_info = psutil.disk_usage('/')\n",
    "\n",
    "print(\"\\nDisk Information:\")\n",
    "print(f\"Total Disk Space: {disk_info.total} bytes\")\n",
    "print(f\"Used Disk Space: {disk_info.used} bytes\")\n",
    "print(f\"Free Disk Space: {disk_info.free} bytes\")\n",
    "print(f\"Disk Space Utilization: {disk_info.percent}%\")"
   ]
  },
  {
   "cell_type": "code",
   "execution_count": 67,
   "id": "ad808135-d3dc-4448-a527-d01f44b343b0",
   "metadata": {},
   "outputs": [
    {
     "name": "stdout",
     "output_type": "stream",
     "text": [
      "Defaulting to user installation because normal site-packages is not writeable\n",
      "Requirement already satisfied: gputil in ./.local/lib/python3.10/site-packages (1.4.0)\n"
     ]
    }
   ],
   "source": [
    "import sys\n",
    "!pip install gputil"
   ]
  },
  {
   "cell_type": "code",
   "execution_count": 68,
   "id": "cf6e8aac-f9d4-4c0b-b98b-5da446ff0eb9",
   "metadata": {},
   "outputs": [
    {
     "ename": "ModuleNotFoundError",
     "evalue": "No module named 'GPUtil'",
     "output_type": "error",
     "traceback": [
      "\u001b[0;31m---------------------------------------------------------------------------\u001b[0m",
      "\u001b[0;31mModuleNotFoundError\u001b[0m                       Traceback (most recent call last)",
      "Cell \u001b[0;32mIn[68], line 1\u001b[0m\n\u001b[0;32m----> 1\u001b[0m \u001b[38;5;28;01mimport\u001b[39;00m \u001b[38;5;21;01mGPUtil\u001b[39;00m\n\u001b[1;32m      2\u001b[0m gpus \u001b[38;5;241m=\u001b[39m GPUtil\u001b[38;5;241m.\u001b[39mgetGPUs()\n\u001b[1;32m      4\u001b[0m \u001b[38;5;28;01mif\u001b[39;00m \u001b[38;5;129;01mnot\u001b[39;00m gpus:\n",
      "\u001b[0;31mModuleNotFoundError\u001b[0m: No module named 'GPUtil'"
     ]
    }
   ],
   "source": [
    "import GPUtil\n",
    "gpus = GPUtil.getGPUs()\n",
    "\n",
    "if not gpus:\n",
    "    print(\"No GPU detected.\")\n",
    "else:\n",
    "    for i, gpu in enumerate(gpus):\n",
    "        print(f\"\\nGPU {i + 1} Information:\")\n",
    "        print(f\"ID: {gpu.id}\")\n",
    "        print(f\"Name: {gpu.name}\")\n",
    "        print(f\"Driver: {gpu.driver}\")\n",
    "        print(f\"GPU Memory Total: {gpu.memoryTotal} MB\")\n",
    "        print(f\"GPU Memory Free: {gpu.memoryFree} MB\")\n",
    "        print(f\"GPU Memory Used: {gpu.memoryUsed} MB\")\n",
    "        print(f\"GPU Load: {gpu.load * 100}%\")\n",
    "        print(f\"GPU Temperature: {gpu.temperature}°C\")"
   ]
  },
  {
   "cell_type": "code",
   "execution_count": 69,
   "id": "4c151727-680d-4bd6-b912-57229d965396",
   "metadata": {},
   "outputs": [
    {
     "ename": "ModuleNotFoundError",
     "evalue": "No module named 'GPUtil'",
     "output_type": "error",
     "traceback": [
      "\u001b[0;31m---------------------------------------------------------------------------\u001b[0m",
      "\u001b[0;31mModuleNotFoundError\u001b[0m                       Traceback (most recent call last)",
      "Cell \u001b[0;32mIn[69], line 1\u001b[0m\n\u001b[0;32m----> 1\u001b[0m \u001b[38;5;28;01mimport\u001b[39;00m \u001b[38;5;21;01mGPUtil\u001b[39;00m\n\u001b[1;32m      2\u001b[0m gpus \u001b[38;5;241m=\u001b[39m GPUtil\u001b[38;5;241m.\u001b[39mgetGPUs()\n\u001b[1;32m      4\u001b[0m \u001b[38;5;28;01mif\u001b[39;00m \u001b[38;5;129;01mnot\u001b[39;00m gpus:\n",
      "\u001b[0;31mModuleNotFoundError\u001b[0m: No module named 'GPUtil'"
     ]
    }
   ],
   "source": [
    "import GPUtil\n",
    "gpus = GPUtil.getGPUs()\n",
    "\n",
    "if not gpus:\n",
    "    print(\"No GPU detected.\")\n",
    "else:\n",
    "    for i, gpu in enumerate(gpus):\n",
    "        print(f\"\\nGPU {i + 1} Information:\")\n",
    "        print(f\"ID: {gpu.id}\")\n",
    "        print(f\"Name: {gpu.name}\")\n",
    "        print(f\"Driver: {gpu.driver}\")\n",
    "        print(f\"GPU Memory Total: {gpu.memoryTotal} MB\")\n",
    "        print(f\"GPU Memory Free: {gpu.memoryFree} MB\")\n",
    "        print(f\"GPU Memory Used: {gpu.memoryUsed} MB\")\n",
    "        print(f\"GPU Load: {gpu.load * 100}%\")\n",
    "        print(f\"GPU Temperature: {gpu.temperature}°C\")"
   ]
  },
  {
   "cell_type": "code",
   "execution_count": 70,
   "id": "9321b509-608b-4a2b-b36f-13b3d28b61fc",
   "metadata": {},
   "outputs": [
    {
     "ename": "ModuleNotFoundError",
     "evalue": "No module named 'GPUtil'",
     "output_type": "error",
     "traceback": [
      "\u001b[0;31m---------------------------------------------------------------------------\u001b[0m",
      "\u001b[0;31mModuleNotFoundError\u001b[0m                       Traceback (most recent call last)",
      "Cell \u001b[0;32mIn[70], line 1\u001b[0m\n\u001b[0;32m----> 1\u001b[0m \u001b[38;5;28;01mimport\u001b[39;00m \u001b[38;5;21;01mGPUtil\u001b[39;00m\n\u001b[1;32m      2\u001b[0m gpus \u001b[38;5;241m=\u001b[39m GPUtil\u001b[38;5;241m.\u001b[39mgetGPUs()\n\u001b[1;32m      4\u001b[0m \u001b[38;5;28;01mif\u001b[39;00m \u001b[38;5;129;01mnot\u001b[39;00m gpus:\n",
      "\u001b[0;31mModuleNotFoundError\u001b[0m: No module named 'GPUtil'"
     ]
    }
   ],
   "source": [
    "import GPUtil\n",
    "gpus = GPUtil.getGPUs()\n",
    "\n",
    "if not gpus:\n",
    "    print(\"No GPU detected.\")\n",
    "else:\n",
    "    for i, gpu in enumerate(gpus):\n",
    "        print(f\"\\nGPU {i + 1} Information:\")\n",
    "        print(f\"ID: {gpu.id}\")\n",
    "        print(f\"Name: {gpu.name}\")\n",
    "        print(f\"Driver: {gpu.driver}\")\n",
    "        print(f\"GPU Memory Total: {gpu.memoryTotal} MB\")\n",
    "        print(f\"GPU Memory Free: {gpu.memoryFree} MB\")\n",
    "        print(f\"GPU Memory Used: {gpu.memoryUsed} MB\")\n",
    "        print(f\"GPU Load: {gpu.load * 100}%\")\n",
    "        print(f\"GPU Temperature: {gpu.temperature}°C\")"
   ]
  },
  {
   "cell_type": "code",
   "execution_count": null,
   "id": "cc55c0d0-a453-4cec-b789-f6d01821ed17",
   "metadata": {},
   "outputs": [],
   "source": []
  },
  {
   "cell_type": "code",
   "execution_count": null,
   "id": "b6b0ad66-3a30-4b06-86fa-3cd88d5ccc43",
   "metadata": {},
   "outputs": [],
   "source": []
  }
 ],
 "metadata": {
  "kernelspec": {
   "display_name": "Python 3 (ipykernel)",
   "language": "python",
   "name": "python3"
  },
  "language_info": {
   "codemirror_mode": {
    "name": "ipython",
    "version": 3
   },
   "file_extension": ".py",
   "mimetype": "text/x-python",
   "name": "python",
   "nbconvert_exporter": "python",
   "pygments_lexer": "ipython3",
   "version": "3.11.5"
  }
 },
 "nbformat": 4,
 "nbformat_minor": 5
}
